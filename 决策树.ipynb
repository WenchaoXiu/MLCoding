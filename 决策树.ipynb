{
 "cells": [
  {
   "cell_type": "markdown",
   "metadata": {},
   "source": [
    "# 模块载入"
   ]
  },
  {
   "cell_type": "code",
   "execution_count": 1,
   "metadata": {
    "collapsed": true
   },
   "outputs": [],
   "source": [
    "import numpy as np \n",
    "import pandas as pd"
   ]
  },
  {
   "cell_type": "markdown",
   "metadata": {},
   "source": [
    "# 1.创建数据"
   ]
  },
  {
   "cell_type": "code",
   "execution_count": 2,
   "metadata": {
    "collapsed": true
   },
   "outputs": [],
   "source": [
    "def createData():\n",
    "    dataDic = {\"age\":['young', 'young', 'young', 'young', 'young', 'mid', 'mid', 'mid', 'mid', 'mid', 'old', 'old', 'old', 'old', 'old'], \n",
    "               \"work\":['no', 'no', 'yes', 'yes', 'no', 'no', 'no', 'yes', 'no', 'no', 'no', 'no', 'yes', 'yes', 'no'], \n",
    "               \"house\":['no', 'no', 'no', 'yes', 'no', 'no', 'no', 'yes', 'yes', 'yes', 'yes', 'yes', 'no', 'no', 'no'], \n",
    "               \"credit\":['normal', 'good', 'good', 'normal', 'normal', 'normal', 'good', 'good', 'verygood', 'verygood', 'verygood', 'good', 'good', 'verygood', 'normal'], \n",
    "               \"class\":['no', 'no', 'yes', 'yes', 'no', 'no', 'no', 'yes', 'yes', 'yes', 'yes', 'yes', 'yes', 'yes', 'no']}\n",
    "    df = pd.DataFrame(dataDic,columns=['age','work','house','credit','class'])\n",
    "    return df"
   ]
  },
  {
   "cell_type": "code",
   "execution_count": 3,
   "metadata": {},
   "outputs": [
    {
     "data": {
      "text/html": [
       "<div>\n",
       "<style>\n",
       "    .dataframe thead tr:only-child th {\n",
       "        text-align: right;\n",
       "    }\n",
       "\n",
       "    .dataframe thead th {\n",
       "        text-align: left;\n",
       "    }\n",
       "\n",
       "    .dataframe tbody tr th {\n",
       "        vertical-align: top;\n",
       "    }\n",
       "</style>\n",
       "<table border=\"1\" class=\"dataframe\">\n",
       "  <thead>\n",
       "    <tr style=\"text-align: right;\">\n",
       "      <th></th>\n",
       "      <th>age</th>\n",
       "      <th>work</th>\n",
       "      <th>house</th>\n",
       "      <th>credit</th>\n",
       "      <th>class</th>\n",
       "    </tr>\n",
       "  </thead>\n",
       "  <tbody>\n",
       "    <tr>\n",
       "      <th>0</th>\n",
       "      <td>young</td>\n",
       "      <td>no</td>\n",
       "      <td>no</td>\n",
       "      <td>normal</td>\n",
       "      <td>no</td>\n",
       "    </tr>\n",
       "    <tr>\n",
       "      <th>1</th>\n",
       "      <td>young</td>\n",
       "      <td>no</td>\n",
       "      <td>no</td>\n",
       "      <td>good</td>\n",
       "      <td>no</td>\n",
       "    </tr>\n",
       "    <tr>\n",
       "      <th>2</th>\n",
       "      <td>young</td>\n",
       "      <td>yes</td>\n",
       "      <td>no</td>\n",
       "      <td>good</td>\n",
       "      <td>yes</td>\n",
       "    </tr>\n",
       "    <tr>\n",
       "      <th>3</th>\n",
       "      <td>young</td>\n",
       "      <td>yes</td>\n",
       "      <td>yes</td>\n",
       "      <td>normal</td>\n",
       "      <td>yes</td>\n",
       "    </tr>\n",
       "    <tr>\n",
       "      <th>4</th>\n",
       "      <td>young</td>\n",
       "      <td>no</td>\n",
       "      <td>no</td>\n",
       "      <td>normal</td>\n",
       "      <td>no</td>\n",
       "    </tr>\n",
       "    <tr>\n",
       "      <th>5</th>\n",
       "      <td>mid</td>\n",
       "      <td>no</td>\n",
       "      <td>no</td>\n",
       "      <td>normal</td>\n",
       "      <td>no</td>\n",
       "    </tr>\n",
       "    <tr>\n",
       "      <th>6</th>\n",
       "      <td>mid</td>\n",
       "      <td>no</td>\n",
       "      <td>no</td>\n",
       "      <td>good</td>\n",
       "      <td>no</td>\n",
       "    </tr>\n",
       "    <tr>\n",
       "      <th>7</th>\n",
       "      <td>mid</td>\n",
       "      <td>yes</td>\n",
       "      <td>yes</td>\n",
       "      <td>good</td>\n",
       "      <td>yes</td>\n",
       "    </tr>\n",
       "    <tr>\n",
       "      <th>8</th>\n",
       "      <td>mid</td>\n",
       "      <td>no</td>\n",
       "      <td>yes</td>\n",
       "      <td>verygood</td>\n",
       "      <td>yes</td>\n",
       "    </tr>\n",
       "    <tr>\n",
       "      <th>9</th>\n",
       "      <td>mid</td>\n",
       "      <td>no</td>\n",
       "      <td>yes</td>\n",
       "      <td>verygood</td>\n",
       "      <td>yes</td>\n",
       "    </tr>\n",
       "    <tr>\n",
       "      <th>10</th>\n",
       "      <td>old</td>\n",
       "      <td>no</td>\n",
       "      <td>yes</td>\n",
       "      <td>verygood</td>\n",
       "      <td>yes</td>\n",
       "    </tr>\n",
       "    <tr>\n",
       "      <th>11</th>\n",
       "      <td>old</td>\n",
       "      <td>no</td>\n",
       "      <td>yes</td>\n",
       "      <td>good</td>\n",
       "      <td>yes</td>\n",
       "    </tr>\n",
       "    <tr>\n",
       "      <th>12</th>\n",
       "      <td>old</td>\n",
       "      <td>yes</td>\n",
       "      <td>no</td>\n",
       "      <td>good</td>\n",
       "      <td>yes</td>\n",
       "    </tr>\n",
       "    <tr>\n",
       "      <th>13</th>\n",
       "      <td>old</td>\n",
       "      <td>yes</td>\n",
       "      <td>no</td>\n",
       "      <td>verygood</td>\n",
       "      <td>yes</td>\n",
       "    </tr>\n",
       "    <tr>\n",
       "      <th>14</th>\n",
       "      <td>old</td>\n",
       "      <td>no</td>\n",
       "      <td>no</td>\n",
       "      <td>normal</td>\n",
       "      <td>no</td>\n",
       "    </tr>\n",
       "  </tbody>\n",
       "</table>\n",
       "</div>"
      ],
      "text/plain": [
       "      age work house    credit class\n",
       "0   young   no    no    normal    no\n",
       "1   young   no    no      good    no\n",
       "2   young  yes    no      good   yes\n",
       "3   young  yes   yes    normal   yes\n",
       "4   young   no    no    normal    no\n",
       "5     mid   no    no    normal    no\n",
       "6     mid   no    no      good    no\n",
       "7     mid  yes   yes      good   yes\n",
       "8     mid   no   yes  verygood   yes\n",
       "9     mid   no   yes  verygood   yes\n",
       "10    old   no   yes  verygood   yes\n",
       "11    old   no   yes      good   yes\n",
       "12    old  yes    no      good   yes\n",
       "13    old  yes    no  verygood   yes\n",
       "14    old   no    no    normal    no"
      ]
     },
     "execution_count": 3,
     "metadata": {},
     "output_type": "execute_result"
    }
   ],
   "source": [
    "data = createData()\n",
    "data"
   ]
  },
  {
   "cell_type": "markdown",
   "metadata": {},
   "source": [
    "# 2. 计算信息熵"
   ]
  },
  {
   "cell_type": "code",
   "execution_count": 4,
   "metadata": {},
   "outputs": [],
   "source": [
    "def calEntropy(dataset, col=-1):\n",
    "    if col==-1:\n",
    "        label = dataset.iloc[:,-1].value_counts()\n",
    "        prob = np.array(label*1.0/np.sum(label))\n",
    "        entropy = -np.sum(prob*np.log2(prob))\n",
    "    else:\n",
    "        featureLabel = dataset.iloc[:,[col,-1]]\n",
    "        tmp = featureLabel.groupby([dataset.columns[col],dataset.columns[-1]]).size()\n",
    "        feature = dataset.iloc[:,col].unique()\n",
    "        entropy = 0\n",
    "        for i in feature:\n",
    "            freq = np.sum(np.array(tmp[i]))*1.0/len(dataset)\n",
    "            prob = (np.array(tmp[i])*1.0)/np.sum(np.array(tmp[i]))\n",
    "            entropySub = -np.sum(prob*np.log2(prob))\n",
    "            entropy += entropySub*freq\n",
    "    return entropy"
   ]
  },
  {
   "cell_type": "code",
   "execution_count": 5,
   "metadata": {},
   "outputs": [
    {
     "name": "stdout",
     "output_type": "stream",
     "text": [
      "0.08300749985576883\n",
      "0.32365019815155627\n",
      "0.4199730940219749\n",
      "0.36298956253708536\n"
     ]
    }
   ],
   "source": [
    "print calEntropy(data, col=-1)-calEntropy(data, col=0)\n",
    "print calEntropy(data, col=-1)-calEntropy(data, col=1)\n",
    "print calEntropy(data, col=-1)-calEntropy(data, col=2)\n",
    "print calEntropy(data, col=-1)-calEntropy(data, col=3)"
   ]
  },
  {
   "cell_type": "markdown",
   "metadata": {},
   "source": [
    "# 3. 根据数据返回相应数据最优特征"
   ]
  },
  {
   "cell_type": "code",
   "execution_count": 6,
   "metadata": {},
   "outputs": [
    {
     "data": {
      "text/plain": [
       "'work'"
      ]
     },
     "execution_count": 6,
     "metadata": {},
     "output_type": "execute_result"
    }
   ],
   "source": [
    "def bestFeature(dataset):\n",
    "    bestFeature = -1\n",
    "    bestIG = 0\n",
    "    for i in range(dataset.shape[1]-1):\n",
    "        IG = calEntropy(dataset, col=-1)-calEntropy(dataset, col=i)\n",
    "        if (IG>=bestIG):\n",
    "            bestIG = IG\n",
    "            bestFeature = i\n",
    "    return dataset.columns[bestFeature]\n",
    "\n",
    "\n",
    "bestFeature(data.loc[data.house=='no',])\n"
   ]
  },
  {
   "cell_type": "markdown",
   "metadata": {},
   "source": [
    "# 4. 根据某一列对数据进行分割"
   ]
  },
  {
   "cell_type": "code",
   "execution_count": 7,
   "metadata": {},
   "outputs": [
    {
     "data": {
      "text/plain": [
       "([  work house  credit class\n",
       "  0   no    no  normal    no\n",
       "  1   no    no    good    no\n",
       "  2  yes    no    good   yes\n",
       "  3  yes   yes  normal   yes\n",
       "  4   no    no  normal    no,   work house    credit class\n",
       "  0   no    no    normal    no\n",
       "  1   no    no      good    no\n",
       "  2  yes   yes      good   yes\n",
       "  3   no   yes  verygood   yes\n",
       "  4   no   yes  verygood   yes,   work house    credit class\n",
       "  0   no   yes  verygood   yes\n",
       "  1   no   yes      good   yes\n",
       "  2  yes    no      good   yes\n",
       "  3  yes    no  verygood   yes\n",
       "  4   no    no    normal    no], array(['young', 'mid', 'old'], dtype=object))"
      ]
     },
     "execution_count": 7,
     "metadata": {},
     "output_type": "execute_result"
    }
   ],
   "source": [
    "def dataSplit(dataset, col):\n",
    "    colValue = dataset.loc[:,col].unique()\n",
    "    subDfList = []\n",
    "    for i in colValue:\n",
    "        subData = dataset.loc[dataset.loc[:,col]==i,:]\n",
    "        subDataDelete = subData.drop([col], axis=1)\n",
    "        subDataDelete = subDataDelete.reset_index(drop = True)\n",
    "        subDfList.append(subDataDelete) # 返回多个pandas dataframe\n",
    "    return subDfList,colValue # 返回子dataframe和相应列的值\n",
    "dataSplit(data,'age')"
   ]
  },
  {
   "cell_type": "markdown",
   "metadata": {},
   "source": [
    "# 5. 迭代计算决策树"
   ]
  },
  {
   "cell_type": "code",
   "execution_count": 8,
   "metadata": {},
   "outputs": [],
   "source": [
    "def decisionTree(dataset):\n",
    "    tree = {}\n",
    "    IG = 100\n",
    "    label = 'None'\n",
    "    if calEntropy(dataset)==0:\n",
    "        return dataset.iloc[1,-1] # 标签相同停止迭代，返回最终标签\n",
    "    if dataset.shape[1]==1 or IG<0.1:\n",
    "        return dataset.iloc[:,-1].value_counts().argmax() # 数据特征没有多余的，或者信息增益小于阈值，停止迭代，返回标签\n",
    "    bestfeature = bestFeature(dataset)\n",
    "    subData,colValue = dataSplit(dataset, bestfeature)\n",
    "    tree[bestfeature] = {}\n",
    "    for i,v in enumerate(colValue):\n",
    "        tree[bestfeature][v] = decisionTree(subData[i])\n",
    "    return tree\n"
   ]
  },
  {
   "cell_type": "code",
   "execution_count": 9,
   "metadata": {},
   "outputs": [
    {
     "data": {
      "text/plain": [
       "{'house': {'no': {'work': {'no': 'no', 'yes': 'yes'}}, 'yes': 'yes'}}"
      ]
     },
     "execution_count": 9,
     "metadata": {},
     "output_type": "execute_result"
    }
   ],
   "source": [
    "decisionTree(data,)"
   ]
  },
  {
   "cell_type": "code",
   "execution_count": null,
   "metadata": {},
   "outputs": [],
   "source": []
  },
  {
   "cell_type": "code",
   "execution_count": null,
   "metadata": {},
   "outputs": [],
   "source": []
  },
  {
   "cell_type": "code",
   "execution_count": null,
   "metadata": {},
   "outputs": [],
   "source": []
  },
  {
   "cell_type": "code",
   "execution_count": null,
   "metadata": {},
   "outputs": [],
   "source": []
  },
  {
   "cell_type": "code",
   "execution_count": null,
   "metadata": {},
   "outputs": [],
   "source": []
  },
  {
   "cell_type": "code",
   "execution_count": null,
   "metadata": {
    "collapsed": true
   },
   "outputs": [],
   "source": []
  },
  {
   "cell_type": "code",
   "execution_count": null,
   "metadata": {
    "collapsed": true
   },
   "outputs": [],
   "source": []
  },
  {
   "cell_type": "code",
   "execution_count": null,
   "metadata": {
    "collapsed": true
   },
   "outputs": [],
   "source": []
  },
  {
   "cell_type": "code",
   "execution_count": null,
   "metadata": {
    "collapsed": true
   },
   "outputs": [],
   "source": []
  }
 ],
 "metadata": {
  "kernelspec": {
   "display_name": "Python 2",
   "language": "python",
   "name": "python2"
  },
  "language_info": {
   "codemirror_mode": {
    "name": "ipython",
    "version": 2
   },
   "file_extension": ".py",
   "mimetype": "text/x-python",
   "name": "python",
   "nbconvert_exporter": "python",
   "pygments_lexer": "ipython2",
   "version": "2.7.13"
  }
 },
 "nbformat": 4,
 "nbformat_minor": 2
}
