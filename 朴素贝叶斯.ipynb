{
 "cells": [
  {
   "cell_type": "markdown",
   "metadata": {},
   "source": [
    "# Naive bayes 模型"
   ]
  },
  {
   "cell_type": "markdown",
   "metadata": {},
   "source": [
    "#### 通俗的说，判断某类别出现的概率，就是该类别出现的概率，以及数据在该类别下此pattern出现的概率的乘积。\n",
    "#### 举例来说就是：你看到了外面1.云很厚 2.天很暗 3. 气压很低，那么想问一下，今天会下雨的概率是多少？\n",
    "#### 其实今天下雨的概率就是这个地方一年下雨的概率(沙漠和热带雨林这个概率不同)*如果下雨那么天上的云很厚的概率*如果下雨那么天很暗的概率*如果下雨那么气压很低的概率。"
   ]
  },
  {
   "cell_type": "markdown",
   "metadata": {},
   "source": [
    "# 1.导入数据"
   ]
  },
  {
   "cell_type": "code",
   "execution_count": 1,
   "metadata": {
    "collapsed": true
   },
   "outputs": [],
   "source": [
    "import numpy as np\n",
    "import pandas as pd"
   ]
  },
  {
   "cell_type": "markdown",
   "metadata": {},
   "source": [
    "# 2. 创建数据"
   ]
  },
  {
   "cell_type": "code",
   "execution_count": 2,
   "metadata": {},
   "outputs": [
    {
     "data": {
      "text/html": [
       "<div>\n",
       "<style>\n",
       "    .dataframe thead tr:only-child th {\n",
       "        text-align: right;\n",
       "    }\n",
       "\n",
       "    .dataframe thead th {\n",
       "        text-align: left;\n",
       "    }\n",
       "\n",
       "    .dataframe tbody tr th {\n",
       "        vertical-align: top;\n",
       "    }\n",
       "</style>\n",
       "<table border=\"1\" class=\"dataframe\">\n",
       "  <thead>\n",
       "    <tr style=\"text-align: right;\">\n",
       "      <th></th>\n",
       "      <th>age</th>\n",
       "      <th>work</th>\n",
       "      <th>house</th>\n",
       "      <th>credit</th>\n",
       "      <th>label</th>\n",
       "    </tr>\n",
       "  </thead>\n",
       "  <tbody>\n",
       "    <tr>\n",
       "      <th>0</th>\n",
       "      <td>young</td>\n",
       "      <td>no</td>\n",
       "      <td>no</td>\n",
       "      <td>normal</td>\n",
       "      <td>no</td>\n",
       "    </tr>\n",
       "    <tr>\n",
       "      <th>1</th>\n",
       "      <td>young</td>\n",
       "      <td>no</td>\n",
       "      <td>no</td>\n",
       "      <td>good</td>\n",
       "      <td>no</td>\n",
       "    </tr>\n",
       "    <tr>\n",
       "      <th>2</th>\n",
       "      <td>young</td>\n",
       "      <td>yes</td>\n",
       "      <td>no</td>\n",
       "      <td>good</td>\n",
       "      <td>yes</td>\n",
       "    </tr>\n",
       "    <tr>\n",
       "      <th>3</th>\n",
       "      <td>young</td>\n",
       "      <td>yes</td>\n",
       "      <td>yes</td>\n",
       "      <td>normal</td>\n",
       "      <td>yes</td>\n",
       "    </tr>\n",
       "    <tr>\n",
       "      <th>4</th>\n",
       "      <td>young</td>\n",
       "      <td>no</td>\n",
       "      <td>no</td>\n",
       "      <td>normal</td>\n",
       "      <td>no</td>\n",
       "    </tr>\n",
       "    <tr>\n",
       "      <th>5</th>\n",
       "      <td>mid</td>\n",
       "      <td>no</td>\n",
       "      <td>no</td>\n",
       "      <td>normal</td>\n",
       "      <td>no</td>\n",
       "    </tr>\n",
       "    <tr>\n",
       "      <th>6</th>\n",
       "      <td>mid</td>\n",
       "      <td>no</td>\n",
       "      <td>no</td>\n",
       "      <td>good</td>\n",
       "      <td>no</td>\n",
       "    </tr>\n",
       "    <tr>\n",
       "      <th>7</th>\n",
       "      <td>mid</td>\n",
       "      <td>yes</td>\n",
       "      <td>yes</td>\n",
       "      <td>good</td>\n",
       "      <td>yes</td>\n",
       "    </tr>\n",
       "    <tr>\n",
       "      <th>8</th>\n",
       "      <td>mid</td>\n",
       "      <td>no</td>\n",
       "      <td>yes</td>\n",
       "      <td>verygood</td>\n",
       "      <td>yes</td>\n",
       "    </tr>\n",
       "    <tr>\n",
       "      <th>9</th>\n",
       "      <td>mid</td>\n",
       "      <td>no</td>\n",
       "      <td>yes</td>\n",
       "      <td>verygood</td>\n",
       "      <td>yes</td>\n",
       "    </tr>\n",
       "    <tr>\n",
       "      <th>10</th>\n",
       "      <td>old</td>\n",
       "      <td>no</td>\n",
       "      <td>yes</td>\n",
       "      <td>verygood</td>\n",
       "      <td>yes</td>\n",
       "    </tr>\n",
       "    <tr>\n",
       "      <th>11</th>\n",
       "      <td>old</td>\n",
       "      <td>no</td>\n",
       "      <td>yes</td>\n",
       "      <td>good</td>\n",
       "      <td>yes</td>\n",
       "    </tr>\n",
       "    <tr>\n",
       "      <th>12</th>\n",
       "      <td>old</td>\n",
       "      <td>yes</td>\n",
       "      <td>no</td>\n",
       "      <td>good</td>\n",
       "      <td>yes</td>\n",
       "    </tr>\n",
       "    <tr>\n",
       "      <th>13</th>\n",
       "      <td>old</td>\n",
       "      <td>yes</td>\n",
       "      <td>no</td>\n",
       "      <td>verygood</td>\n",
       "      <td>yes</td>\n",
       "    </tr>\n",
       "    <tr>\n",
       "      <th>14</th>\n",
       "      <td>old</td>\n",
       "      <td>no</td>\n",
       "      <td>no</td>\n",
       "      <td>normal</td>\n",
       "      <td>no</td>\n",
       "    </tr>\n",
       "  </tbody>\n",
       "</table>\n",
       "</div>"
      ],
      "text/plain": [
       "      age work house    credit label\n",
       "0   young   no    no    normal    no\n",
       "1   young   no    no      good    no\n",
       "2   young  yes    no      good   yes\n",
       "3   young  yes   yes    normal   yes\n",
       "4   young   no    no    normal    no\n",
       "5     mid   no    no    normal    no\n",
       "6     mid   no    no      good    no\n",
       "7     mid  yes   yes      good   yes\n",
       "8     mid   no   yes  verygood   yes\n",
       "9     mid   no   yes  verygood   yes\n",
       "10    old   no   yes  verygood   yes\n",
       "11    old   no   yes      good   yes\n",
       "12    old  yes    no      good   yes\n",
       "13    old  yes    no  verygood   yes\n",
       "14    old   no    no    normal    no"
      ]
     },
     "execution_count": 2,
     "metadata": {},
     "output_type": "execute_result"
    }
   ],
   "source": [
    "def createData():\n",
    "    dataDic = {\"age\":['young', 'young', 'young', 'young', 'young', 'mid', 'mid', 'mid', 'mid', 'mid', 'old', 'old', 'old', 'old', 'old'], \n",
    "               \"work\":['no', 'no', 'yes', 'yes', 'no', 'no', 'no', 'yes', 'no', 'no', 'no', 'no', 'yes', 'yes', 'no'], \n",
    "               \"house\":['no', 'no', 'no', 'yes', 'no', 'no', 'no', 'yes', 'yes', 'yes', 'yes', 'yes', 'no', 'no', 'no'], \n",
    "               \"credit\":['normal', 'good', 'good', 'normal', 'normal', 'normal', 'good', 'good', 'verygood', 'verygood', 'verygood', 'good', 'good', 'verygood', 'normal'], \n",
    "               \"label\":['no', 'no', 'yes', 'yes', 'no', 'no', 'no', 'yes', 'yes', 'yes', 'yes', 'yes', 'yes', 'yes', 'no']}\n",
    "    df = pd.DataFrame(dataDic,columns=['age','work','house','credit','label'])\n",
    "    return df\n",
    "createData()"
   ]
  },
  {
   "cell_type": "markdown",
   "metadata": {},
   "source": [
    "# 3. 朴素贝叶斯模型"
   ]
  },
  {
   "cell_type": "markdown",
   "metadata": {},
   "source": [
    "#### 朴素体现在假设比较理想：所有变量之间是独立的"
   ]
  },
  {
   "cell_type": "code",
   "execution_count": 3,
   "metadata": {},
   "outputs": [],
   "source": [
    "class NB:\n",
    "    def __init__(self, data):\n",
    "        self.data = data\n",
    "    def labelFrequency(self, data): # 统计不同类别的标签对应的概率\n",
    "        labelDic = {}\n",
    "        valueCount = data.label.value_counts()\n",
    "        valueFreq = valueCount*1.0/sum(valueCount)\n",
    "        for i in valueFreq.index:\n",
    "            labelDic[i] = valueFreq[i]\n",
    "        return labelDic\n",
    "    def yesNoDataFrequency(self, data, label):\n",
    "        dataFrequencyDict = {}\n",
    "        dataSub = data.loc[data.label==label,:]\n",
    "        for i in range(dataSub.shape[1]-1):\n",
    "            featureCount = dataSub.iloc[:,i].value_counts()\n",
    "            featureFreq = featureCount*1.0/sum(featureCount)\n",
    "            feat = dataSub.columns[i]\n",
    "            for j in featureFreq.index:\n",
    "                featName = '@'.join([feat,j]) # 类似于one_hot编码\n",
    "                dataFrequencyDict[featName] = featureFreq[j]\n",
    "        return dataFrequencyDict\n",
    "    def calProb(self, data, label, unknown): # unknown 应该是个list类型\n",
    "        labelFreqDic = self.labelFrequency(data)\n",
    "        dataFreqDic = self.yesNoDataFrequency(data, label)\n",
    "        prob = labelFreqDic[label]\n",
    "        for i,v in enumerate(unknown):\n",
    "            tmpName = '@'.join([data.columns[i], v])\n",
    "            prob *= dataFreqDic[tmpName]\n",
    "        return prob\n",
    "    def predictLabel(self, unknown):\n",
    "        maxLabel = ''\n",
    "        maxValue = -1\n",
    "        labels = self.data.iloc[:,-1].unique()\n",
    "        probDic = {}\n",
    "        for i in labels:\n",
    "            probTmp = self.calProb(self.data, i, unknown)\n",
    "            probDic[i] = probTmp\n",
    "        for k,v in probDic.iteritems():\n",
    "            if (maxValue<v):\n",
    "                maxValue = v\n",
    "                maxLabel = k\n",
    "        return maxLabel"
   ]
  },
  {
   "cell_type": "code",
   "execution_count": 4,
   "metadata": {},
   "outputs": [
    {
     "name": "stdout",
     "output_type": "stream",
     "text": [
      "预测数据: ['young','no','no','normal']\n",
      "预测结果: no\n"
     ]
    }
   ],
   "source": [
    "data = createData()\n",
    "NBModel = NB(data)\n",
    "unknown = ['young','no','no','normal']\n",
    "predictLabel = NBModel.predictLabel(unknown)\n",
    "print \"预测数据: ['young','no','no','normal']\"\n",
    "print \"预测结果: %s\"%predictLabel"
   ]
  },
  {
   "cell_type": "code",
   "execution_count": null,
   "metadata": {},
   "outputs": [],
   "source": []
  },
  {
   "cell_type": "code",
   "execution_count": null,
   "metadata": {},
   "outputs": [],
   "source": []
  },
  {
   "cell_type": "code",
   "execution_count": null,
   "metadata": {
    "collapsed": true
   },
   "outputs": [],
   "source": []
  }
 ],
 "metadata": {
  "kernelspec": {
   "display_name": "Python 2",
   "language": "python",
   "name": "python2"
  },
  "language_info": {
   "codemirror_mode": {
    "name": "ipython",
    "version": 2
   },
   "file_extension": ".py",
   "mimetype": "text/x-python",
   "name": "python",
   "nbconvert_exporter": "python",
   "pygments_lexer": "ipython2",
   "version": "2.7.13"
  }
 },
 "nbformat": 4,
 "nbformat_minor": 2
}
