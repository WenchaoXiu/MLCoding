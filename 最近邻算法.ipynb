{
 "cells": [
  {
   "cell_type": "markdown",
   "metadata": {},
   "source": [
    "# KNN对数据进行预测"
   ]
  },
  {
   "cell_type": "code",
   "execution_count": 1,
   "metadata": {
    "collapsed": true
   },
   "outputs": [],
   "source": [
    "import numpy as np\n",
    "import pandas as pd\n",
    "from sklearn.datasets import load_iris\n",
    "import matplotlib.pyplot as plt\n",
    "%matplotlib inline"
   ]
  },
  {
   "cell_type": "markdown",
   "metadata": {},
   "source": [
    "# 1. 导入数据"
   ]
  },
  {
   "cell_type": "code",
   "execution_count": 2,
   "metadata": {},
   "outputs": [
    {
     "data": {
      "text/html": [
       "<div>\n",
       "<style>\n",
       "    .dataframe thead tr:only-child th {\n",
       "        text-align: right;\n",
       "    }\n",
       "\n",
       "    .dataframe thead th {\n",
       "        text-align: left;\n",
       "    }\n",
       "\n",
       "    .dataframe tbody tr th {\n",
       "        vertical-align: top;\n",
       "    }\n",
       "</style>\n",
       "<table border=\"1\" class=\"dataframe\">\n",
       "  <thead>\n",
       "    <tr style=\"text-align: right;\">\n",
       "      <th></th>\n",
       "      <th>sepalLength</th>\n",
       "      <th>sepalWidth</th>\n",
       "      <th>petalLength</th>\n",
       "      <th>petalWidth</th>\n",
       "      <th>label</th>\n",
       "    </tr>\n",
       "  </thead>\n",
       "  <tbody>\n",
       "    <tr>\n",
       "      <th>0</th>\n",
       "      <td>5.1</td>\n",
       "      <td>3.5</td>\n",
       "      <td>1.4</td>\n",
       "      <td>0.2</td>\n",
       "      <td>0</td>\n",
       "    </tr>\n",
       "    <tr>\n",
       "      <th>1</th>\n",
       "      <td>4.9</td>\n",
       "      <td>3.0</td>\n",
       "      <td>1.4</td>\n",
       "      <td>0.2</td>\n",
       "      <td>0</td>\n",
       "    </tr>\n",
       "    <tr>\n",
       "      <th>2</th>\n",
       "      <td>4.7</td>\n",
       "      <td>3.2</td>\n",
       "      <td>1.3</td>\n",
       "      <td>0.2</td>\n",
       "      <td>0</td>\n",
       "    </tr>\n",
       "    <tr>\n",
       "      <th>3</th>\n",
       "      <td>4.6</td>\n",
       "      <td>3.1</td>\n",
       "      <td>1.5</td>\n",
       "      <td>0.2</td>\n",
       "      <td>0</td>\n",
       "    </tr>\n",
       "    <tr>\n",
       "      <th>4</th>\n",
       "      <td>5.0</td>\n",
       "      <td>3.6</td>\n",
       "      <td>1.4</td>\n",
       "      <td>0.2</td>\n",
       "      <td>0</td>\n",
       "    </tr>\n",
       "  </tbody>\n",
       "</table>\n",
       "</div>"
      ],
      "text/plain": [
       "   sepalLength  sepalWidth  petalLength  petalWidth  label\n",
       "0          5.1         3.5          1.4         0.2      0\n",
       "1          4.9         3.0          1.4         0.2      0\n",
       "2          4.7         3.2          1.3         0.2      0\n",
       "3          4.6         3.1          1.5         0.2      0\n",
       "4          5.0         3.6          1.4         0.2      0"
      ]
     },
     "execution_count": 2,
     "metadata": {},
     "output_type": "execute_result"
    }
   ],
   "source": [
    "iris = load_iris() # iris.feature_names查看特征名称，iris.target_names类别名称\n",
    "data = iris.data\n",
    "target = iris.target\n",
    "\n",
    "totalData = pd.DataFrame(np.c_[data,target], columns=['sepalLength', 'sepalWidth', \n",
    "                                                      'petalLength','petalWidth','label'])\n",
    "totalData[['label']] = totalData[['label']].astype(int) # 修改列的数据类型\n",
    "totalData.head()"
   ]
  },
  {
   "cell_type": "markdown",
   "metadata": {},
   "source": [
    "# 2. 数据展示"
   ]
  },
  {
   "cell_type": "code",
   "execution_count": 3,
   "metadata": {},
   "outputs": [
    {
     "data": {
      "image/png": "[encoded data removed]",
      "text/plain": [
       "<matplotlib.figure.Figure at 0x106f39210>"
      ]
     },
     "metadata": {},
     "output_type": "display_data"
    }
   ],
   "source": [
    "def plotData(data):\n",
    "    totalData0 = data.loc[data.label==0, ]\n",
    "    totalData1 = data.loc[data.label==1, ]\n",
    "    totalData2 = data.loc[data.label==2, ]\n",
    "    plt.plot(totalData0.loc[:,\"petalLength\"], totalData0.loc[:,\"petalWidth\"], \"bo\",label=\"0\")\n",
    "    plt.plot(totalData1.loc[:,\"petalLength\"], totalData1.loc[:,\"petalWidth\"], \"go\",label=\"1\")\n",
    "    plt.plot(totalData2.loc[:,\"petalLength\"], totalData2.loc[:,\"petalWidth\"], \"ro\",label=\"2\")\n",
    "    plt.xlabel(\"PetalLength\");plt.ylabel(\"PetalWidth\");plt.title(\"Iris data\")\n",
    "    plt.legend()\n",
    "plotData(totalData)"
   ]
  },
  {
   "cell_type": "markdown",
   "metadata": {},
   "source": [
    "# 3. 进行KNN算法的实现"
   ]
  },
  {
   "cell_type": "code",
   "execution_count": 4,
   "metadata": {
    "collapsed": true
   },
   "outputs": [],
   "source": [
    "class KNN:\n",
    "    def __init__(self, data, k=3):\n",
    "        self.data = data\n",
    "        self.k = 3\n",
    "    def distFun(self, a, b):\n",
    "        a = np.array(a)\n",
    "        b = np.array(b)\n",
    "        distValue = np.sum(pow(abs(a - b),2))*1.0/len(a) \n",
    "        return distValue\n",
    "    def predict(self, unkownData): # unkownData 需要是np.array类型\n",
    "        distList = []\n",
    "        for i in range(len(self.data)):\n",
    "            distValue = self.distFun(self.data.iloc[i,:-1], unkownData) # 这里函数的引用要加self,注意\n",
    "            distList.append(distValue)\n",
    "        self.data['dist'] = distList\n",
    "        self.data.sort_values(\"dist\", inplace=True)\n",
    "        predictLabel = self.data.iloc[:self.k, -2].value_counts().argmax()\n",
    "        return predictLabel"
   ]
  },
  {
   "cell_type": "markdown",
   "metadata": {},
   "source": [
    "# 4. 对位置数据进行预测"
   ]
  },
  {
   "cell_type": "code",
   "execution_count": 5,
   "metadata": {},
   "outputs": [
    {
     "name": "stdout",
     "output_type": "stream",
     "text": [
      "预测数据:[5.0, 3.7, 1.4, 0.6]\n",
      "预测结果: 0\n"
     ]
    }
   ],
   "source": [
    "KnnModel = KNN(totalData.iloc[:,:5])\n",
    "KnnModel.data.head()\n",
    "unknown = np.array([5.0, 3.7, 1.4, 0.6])\n",
    "predictLabel = KnnModel.predict(unknown)\n",
    "print \"预测数据:[5.0, 3.7, 1.4, 0.6]\"\n",
    "print \"预测结果: %d\"%predictLabel"
   ]
  },
  {
   "cell_type": "code",
   "execution_count": 6,
   "metadata": {},
   "outputs": [
    {
     "data": {
      "image/png": "[encoded data removed]",
      "text/plain": [
       "<matplotlib.figure.Figure at 0x106e90810>"
      ]
     },
     "metadata": {},
     "output_type": "display_data"
    }
   ],
   "source": [
    "plt.plot(unknown[2],unknown[3], \"ko\",label=\"predictUnknown = %d\"%predictLabel)\n",
    "plotData(totalData)\n"
   ]
  },
  {
   "cell_type": "code",
   "execution_count": null,
   "metadata": {
    "collapsed": true
   },
   "outputs": [],
   "source": []
  },
  {
   "cell_type": "code",
   "execution_count": null,
   "metadata": {
    "collapsed": true
   },
   "outputs": [],
   "source": []
  }
 ],
 "metadata": {
  "kernelspec": {
   "display_name": "Python 2",
   "language": "python",
   "name": "python2"
  },
  "language_info": {
   "codemirror_mode": {
    "name": "ipython",
    "version": 2
   },
   "file_extension": ".py",
   "mimetype": "text/x-python",
   "name": "python",
   "nbconvert_exporter": "python",
   "pygments_lexer": "ipython2",
   "version": "2.7.13"
  }
 },
 "nbformat": 4,
 "nbformat_minor": 2
}
