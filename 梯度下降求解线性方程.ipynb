{
 "cells": [
  {
   "cell_type": "markdown",
   "metadata": {},
   "source": [
    "# 1. 构造数据"
   ]
  },
  {
   "cell_type": "code",
   "execution_count": 1,
   "metadata": {},
   "outputs": [],
   "source": [
    "import numpy as np\n",
    "import pandas as pd\n",
    "import matplotlib.pyplot as plt\n",
    "%matplotlib inline"
   ]
  },
  {
   "cell_type": "code",
   "execution_count": 2,
   "metadata": {
    "collapsed": true
   },
   "outputs": [],
   "source": [
    "# 原函数 y = x0+2x1, x0 = 10\n",
    "def dataSimulation(x):\n",
    "    y = 2*x+10\n",
    "    y = [i+np.random.normal(0, 1) for i in y]\n",
    "    return np.array(y)\n",
    "x = np.linspace(-10,10,21)\n",
    "y = dataSimulation(x)"
   ]
  },
  {
   "cell_type": "markdown",
   "metadata": {},
   "source": [
    "# 2.构造损失函数cost function"
   ]
  },
  {
   "cell_type": "code",
   "execution_count": 3,
   "metadata": {},
   "outputs": [],
   "source": [
    "def costFunction(theta,x,y):\n",
    "    f = np.poly1d(theta) # 构建线性方程\n",
    "    err = np.sum(np.square(np.array(f(x))-y))/2*len(x)\n",
    "    return err\n",
    "\n"
   ]
  },
  {
   "cell_type": "markdown",
   "metadata": {},
   "source": [
    "# 3.对参数theta进行更新"
   ]
  },
  {
   "cell_type": "code",
   "execution_count": 4,
   "metadata": {},
   "outputs": [],
   "source": [
    "def updateTheta(theta, x, y, alpha, niter):\n",
    "    costlist = []\n",
    "    costlist.append(costFunction(theta,x,y))\n",
    "    for i in range(niter):\n",
    "        f = np.poly1d(theta) # 因为只有两个特征因此这里选用ax+b类型的线性方程，只有两个系数\n",
    "        res = f(x)-y\n",
    "        theta = theta - (alpha*((res.reshape(-1,len(res)).dot(np.c_[x.reshape(21,1),np.ones(21)]))/len(x))).flatten()\n",
    "        costlist.append(costFunction(theta,x,y))\n",
    "    return costlist,theta\n",
    "\n"
   ]
  },
  {
   "cell_type": "markdown",
   "metadata": {},
   "source": [
    "# 4.进行梯度下降计算同时绘制cost与iteration之间的关系"
   ]
  },
  {
   "cell_type": "code",
   "execution_count": 5,
   "metadata": {},
   "outputs": [
    {
     "data": {
      "text/plain": [
       "<matplotlib.text.Text at 0x107259b50>"
      ]
     },
     "execution_count": 5,
     "metadata": {},
     "output_type": "execute_result"
    },
    {
     "data": {
      "image/png": "[encoded data removed]",
      "text/plain": [
       "<matplotlib.figure.Figure at 0x1071d0d90>"
      ]
     },
     "metadata": {},
     "output_type": "display_data"
    }
   ],
   "source": [
    "theta0 = np.random.rand(1+1) # 随机产生线性方程系数\n",
    "Jtheta,Besttheta = updateTheta(theta0, x, y, 0.01, 1000) # 对cost function进行1000次的梯度下降迭代，求得每次cost以及最优参数\n",
    "plt.plot(range(len(Jtheta)), Jtheta, 'ro')\n",
    "plt.ylabel('Square error')\n",
    "plt.xlabel('Iteration')"
   ]
  },
  {
   "cell_type": "code",
   "execution_count": null,
   "metadata": {},
   "outputs": [],
   "source": []
  },
  {
   "cell_type": "code",
   "execution_count": null,
   "metadata": {
    "collapsed": true
   },
   "outputs": [],
   "source": []
  }
 ],
 "metadata": {
  "kernelspec": {
   "display_name": "Python 2",
   "language": "python",
   "name": "python2"
  },
  "language_info": {
   "codemirror_mode": {
    "name": "ipython",
    "version": 2
   },
   "file_extension": ".py",
   "mimetype": "text/x-python",
   "name": "python",
   "nbconvert_exporter": "python",
   "pygments_lexer": "ipython2",
   "version": "2.7.13"
  }
 },
 "nbformat": 4,
 "nbformat_minor": 2
}
